{
  "nbformat": 4,
  "nbformat_minor": 0,
  "metadata": {
    "colab": {
      "provenance": []
    },
    "kernelspec": {
      "name": "python3",
      "display_name": "Python 3"
    },
    "language_info": {
      "name": "python"
    }
  },
  "cells": [
    {
      "cell_type": "code",
      "execution_count": null,
      "metadata": {
        "id": "CgtKtzyeaKzA"
      },
      "outputs": [],
      "source": [
        "import numpy as np\n",
        "from sklearn.model_selection import train_test_split\n",
        "from tensorflow.keras.models import Sequential\n",
        "from tensorflow.keras.layers import Conv2D, MaxPooling2D, Flatten, Dense, Dropout, BatchNormalization, Activation\n"
      ]
    },
    {
      "cell_type": "code",
      "source": [
        "from google.colab import drive\n",
        "drive.mount('/content/drive')\n",
        "\n",
        "\n",
        "# Caricamento dei dati da Google Drive\n",
        "drive_path = '/content/drive/My Drive/'"
      ],
      "metadata": {
        "colab": {
          "base_uri": "https://localhost:8080/"
        },
        "id": "kq7vgYkwje78",
        "outputId": "8b4acd85-d398-4a98-874d-53e42ab7aa17"
      },
      "execution_count": null,
      "outputs": [
        {
          "output_type": "stream",
          "name": "stdout",
          "text": [
            "Drive already mounted at /content/drive; to attempt to forcibly remount, call drive.mount(\"/content/drive\", force_remount=True).\n"
          ]
        }
      ]
    },
    {
      "cell_type": "code",
      "source": [
        "# Carica il file attacked_dataset.npz\n",
        "attacked_data = np.load(drive_path + 'attackeddatabase_big.npz')\n",
        "original_data = np.load(drive_path + 'originaldatabase_big.npz')"
      ],
      "metadata": {
        "id": "yGOOnakEkj7A"
      },
      "execution_count": null,
      "outputs": []
    },
    {
      "cell_type": "code",
      "source": [
        "# Estrazione delle immagini e delle etichette\n",
        "attacked_images, attacked_labels = attacked_data['images'], np.ones(attacked_data['images'].shape[0])\n",
        "original_images, original_labels = original_data['images'], np.zeros(original_data['images'].shape[0])\n",
        "\n",
        "# Concatenazione dei dati\n",
        "images = np.concatenate([original_images, attacked_images], axis=0)\n",
        "labels = np.concatenate([original_labels, attacked_labels], axis=0)\n",
        "\n",
        "# Divisione dei dati in training e test set\n",
        "X_train, X_test, y_train, y_test = train_test_split(images, labels, test_size=0.2, random_state=42)\n",
        "\n",
        "# Normalizzazione delle immagini\n",
        "X_train = X_train / 255.0\n",
        "X_test = X_test / 255.0"
      ],
      "metadata": {
        "id": "we66JRvIizM1"
      },
      "execution_count": null,
      "outputs": []
    },
    {
      "cell_type": "code",
      "source": [
        "# Modello 1: Aumento della profondità\n",
        "model_1 = Sequential([\n",
        "    Conv2D(64, (3, 3), activation='relu', input_shape=(32, 32, 3)),\n",
        "    MaxPooling2D(),\n",
        "    Conv2D(128, (3, 3), activation='relu'),\n",
        "    MaxPooling2D(),\n",
        "    Conv2D(128, (3, 3), activation='relu'),\n",
        "    MaxPooling2D(),\n",
        "    Flatten(),\n",
        "    Dense(128),\n",
        "    Dropout(0.5),\n",
        "    BatchNormalization(),\n",
        "    Activation('relu'),\n",
        "    Dense(1, activation='sigmoid')\n",
        "])\n",
        "\n",
        "model_1.compile(optimizer='adam',\n",
        "              loss='binary_crossentropy',\n",
        "              metrics=['accuracy'])\n",
        "\n",
        "history_1 = model_1.fit(\n",
        "    X_train, y_train,\n",
        "    epochs=10,\n",
        "    validation_data=(X_test, y_test)\n",
        ")\n",
        "\n",
        "test_loss_1, test_acc_1 = model_1.evaluate(X_test, y_test)\n",
        "print('Model 1 Test Accuracy:', test_acc_1)\n"
      ],
      "metadata": {
        "id": "gQ-3IudIk6tG",
        "colab": {
          "base_uri": "https://localhost:8080/"
        },
        "outputId": "c6c4e2a3-0a50-4005-d18f-1f76e27c855e"
      },
      "execution_count": null,
      "outputs": [
        {
          "output_type": "stream",
          "name": "stdout",
          "text": [
            "Epoch 1/10\n",
            "700/700 [==============================] - 51s 72ms/step - loss: 0.6974 - accuracy: 0.4982 - val_loss: 0.6932 - val_accuracy: 0.5021\n",
            "Epoch 2/10\n",
            "700/700 [==============================] - 49s 71ms/step - loss: 0.6952 - accuracy: 0.4948 - val_loss: 0.6932 - val_accuracy: 0.5021\n",
            "Epoch 3/10\n",
            "700/700 [==============================] - 50s 71ms/step - loss: 0.6936 - accuracy: 0.4994 - val_loss: 0.6932 - val_accuracy: 0.5021\n",
            "Epoch 4/10\n",
            "700/700 [==============================] - 53s 76ms/step - loss: 0.6935 - accuracy: 0.4991 - val_loss: 0.6932 - val_accuracy: 0.4979\n",
            "Epoch 5/10\n",
            "700/700 [==============================] - 50s 71ms/step - loss: 0.6933 - accuracy: 0.5011 - val_loss: 0.6932 - val_accuracy: 0.4979\n",
            "Epoch 6/10\n",
            "700/700 [==============================] - 51s 73ms/step - loss: 0.6933 - accuracy: 0.4960 - val_loss: 0.6931 - val_accuracy: 0.4979\n",
            "Epoch 7/10\n",
            "700/700 [==============================] - 53s 75ms/step - loss: 0.6932 - accuracy: 0.4958 - val_loss: 0.6932 - val_accuracy: 0.4979\n",
            "Epoch 8/10\n",
            "700/700 [==============================] - 54s 78ms/step - loss: 0.6932 - accuracy: 0.4996 - val_loss: 0.6931 - val_accuracy: 0.5021\n",
            "Epoch 9/10\n",
            "700/700 [==============================] - 52s 74ms/step - loss: 0.6932 - accuracy: 0.4950 - val_loss: 0.6932 - val_accuracy: 0.4979\n",
            "Epoch 10/10\n",
            "700/700 [==============================] - 53s 76ms/step - loss: 0.6932 - accuracy: 0.5023 - val_loss: 0.6932 - val_accuracy: 0.4979\n",
            "175/175 [==============================] - 3s 17ms/step - loss: 0.6932 - accuracy: 0.4979\n",
            "Model 1 Test Accuracy: 0.49785715341567993\n"
          ]
        }
      ]
    },
    {
      "cell_type": "code",
      "source": [
        "#Modello 2: Riduzione della profondità e aumento della larghezza\n",
        "model_2 = Sequential([\n",
        "    Conv2D(128, (3, 3), activation='relu', input_shape=(32, 32, 3)),\n",
        "    MaxPooling2D(),\n",
        "    Flatten(),\n",
        "    Dense(256, activation='relu'),\n",
        "    Dropout(0.4),\n",
        "    Dense(1, activation='sigmoid')\n",
        "])\n",
        "\n",
        "model_2.compile(optimizer='adam',\n",
        "              loss='binary_crossentropy',\n",
        "              metrics=['accuracy'])\n",
        "\n",
        "history_2 = model_2.fit(\n",
        "    X_train, y_train,\n",
        "    epochs=10,\n",
        "    validation_data=(X_test, y_test)\n",
        ")\n",
        "\n",
        "test_loss_2, test_acc_2 = model_2.evaluate(X_test, y_test)\n"
      ],
      "metadata": {
        "colab": {
          "base_uri": "https://localhost:8080/"
        },
        "id": "xs9xJOlggffL",
        "outputId": "5f43bde4-eaca-429a-d14f-c5a90000f94a"
      },
      "execution_count": null,
      "outputs": [
        {
          "output_type": "stream",
          "name": "stdout",
          "text": [
            "Epoch 1/10\n",
            "700/700 [==============================] - 70s 100ms/step - loss: 0.6932 - accuracy: 0.4979 - val_loss: 0.6932 - val_accuracy: 0.4979\n",
            "Epoch 2/10\n",
            "700/700 [==============================] - 64s 91ms/step - loss: 0.6932 - accuracy: 0.4932 - val_loss: 0.6931 - val_accuracy: 0.5021\n",
            "Epoch 3/10\n",
            "700/700 [==============================] - 62s 88ms/step - loss: 0.6932 - accuracy: 0.5018 - val_loss: 0.6931 - val_accuracy: 0.5021\n",
            "Epoch 4/10\n",
            "700/700 [==============================] - 72s 103ms/step - loss: 0.6932 - accuracy: 0.4974 - val_loss: 0.6931 - val_accuracy: 0.4979\n",
            "Epoch 5/10\n",
            "700/700 [==============================] - 65s 93ms/step - loss: 0.6932 - accuracy: 0.4930 - val_loss: 0.6932 - val_accuracy: 0.4979\n",
            "Epoch 6/10\n",
            "700/700 [==============================] - 66s 94ms/step - loss: 0.6932 - accuracy: 0.5007 - val_loss: 0.6932 - val_accuracy: 0.4979\n",
            "Epoch 7/10\n",
            "700/700 [==============================] - 66s 95ms/step - loss: 0.6932 - accuracy: 0.4994 - val_loss: 0.6931 - val_accuracy: 0.4979\n",
            "Epoch 8/10\n",
            "700/700 [==============================] - 67s 96ms/step - loss: 0.6932 - accuracy: 0.4936 - val_loss: 0.6932 - val_accuracy: 0.4979\n",
            "Epoch 9/10\n",
            "700/700 [==============================] - 66s 94ms/step - loss: 0.6932 - accuracy: 0.4978 - val_loss: 0.6932 - val_accuracy: 0.4979\n",
            "Epoch 10/10\n",
            "700/700 [==============================] - 66s 94ms/step - loss: 0.6932 - accuracy: 0.4931 - val_loss: 0.6932 - val_accuracy: 0.4979\n",
            "175/175 [==============================] - 4s 20ms/step - loss: 0.6932 - accuracy: 0.4979\n"
          ]
        }
      ]
    },
    {
      "cell_type": "code",
      "source": [
        "#Modello 3: Cambiamento della funzione di attivazione\n",
        "model_3 = Sequential([\n",
        "    Conv2D(64, (3, 3), input_shape=(32, 32, 3)),\n",
        "    BatchNormalization(),\n",
        "    Activation('elu'),\n",
        "    MaxPooling2D(),\n",
        "    Conv2D(64, (3, 3)),\n",
        "    BatchNormalization(),\n",
        "    Activation('elu'),\n",
        "    MaxPooling2D(),\n",
        "    Flatten(),\n",
        "    Dense(64, activation='elu'),\n",
        "    Dropout(0.3),\n",
        "    Dense(1, activation='sigmoid')\n",
        "])\n",
        "\n",
        "model_3.compile(optimizer='adam',\n",
        "              loss='binary_crossentropy',\n",
        "              metrics=['accuracy'])\n",
        "\n",
        "history_3 = model_3.fit(\n",
        "    X_train, y_train,\n",
        "    epochs=10,\n",
        "    validation_data=(X_test, y_test)\n",
        ")\n",
        "\n",
        "test_loss_3, test_acc_3 = model_3.evaluate(X_test, y_test)\n"
      ],
      "metadata": {
        "colab": {
          "base_uri": "https://localhost:8080/"
        },
        "id": "tTmAUEuzgrcF",
        "outputId": "56e98c2b-d186-48a3-f185-966bfafbbe71"
      },
      "execution_count": null,
      "outputs": [
        {
          "output_type": "stream",
          "name": "stdout",
          "text": [
            "Epoch 1/10\n",
            "700/700 [==============================] - 40s 56ms/step - loss: 0.7120 - accuracy: 0.4916 - val_loss: 0.8177 - val_accuracy: 0.5021\n",
            "Epoch 2/10\n",
            "700/700 [==============================] - 39s 56ms/step - loss: 0.6957 - accuracy: 0.5051 - val_loss: 0.7795 - val_accuracy: 0.5021\n",
            "Epoch 3/10\n",
            "700/700 [==============================] - 39s 56ms/step - loss: 0.6925 - accuracy: 0.5183 - val_loss: 0.8342 - val_accuracy: 0.4979\n",
            "Epoch 4/10\n",
            "700/700 [==============================] - 40s 57ms/step - loss: 0.6918 - accuracy: 0.5284 - val_loss: 0.7982 - val_accuracy: 0.5021\n",
            "Epoch 5/10\n",
            "700/700 [==============================] - 39s 55ms/step - loss: 0.6907 - accuracy: 0.5359 - val_loss: 4.4032 - val_accuracy: 0.5021\n",
            "Epoch 6/10\n",
            "700/700 [==============================] - 39s 55ms/step - loss: 0.6837 - accuracy: 0.5645 - val_loss: 4.2941 - val_accuracy: 0.5021\n",
            "Epoch 7/10\n",
            "700/700 [==============================] - 42s 60ms/step - loss: 0.6461 - accuracy: 0.6389 - val_loss: 111.8259 - val_accuracy: 0.4979\n",
            "Epoch 8/10\n",
            "700/700 [==============================] - 39s 56ms/step - loss: 0.5100 - accuracy: 0.7669 - val_loss: 23.9082 - val_accuracy: 0.5021\n",
            "Epoch 9/10\n",
            "700/700 [==============================] - 39s 56ms/step - loss: 0.4060 - accuracy: 0.8293 - val_loss: 23.1138 - val_accuracy: 0.5021\n",
            "Epoch 10/10\n",
            "700/700 [==============================] - 39s 56ms/step - loss: 0.3682 - accuracy: 0.8483 - val_loss: 17.0282 - val_accuracy: 0.5021\n",
            "175/175 [==============================] - 2s 13ms/step - loss: 17.0282 - accuracy: 0.5021\n"
          ]
        }
      ]
    },
    {
      "cell_type": "code",
      "source": [
        "#Modello 4: Variazione del metodo di ottimizzazione\n",
        "\n",
        "model_4 = Sequential([\n",
        "    Conv2D(64, (3, 3), activation='relu', input_shape=(32, 32, 3)),\n",
        "    MaxPooling2D(),\n",
        "    Conv2D(64, (3, 3), activation='relu'),\n",
        "    MaxPooling2D(),\n",
        "    Flatten(),\n",
        "    Dense(64, activation='relu'),\n",
        "    Dropout(0.5),\n",
        "    Dense(1, activation='sigmoid')\n",
        "])\n",
        "\n",
        "model_4.compile(optimizer='sgd',  # Cambio dell'ottimizzatore\n",
        "              loss='binary_crossentropy',\n",
        "              metrics=['accuracy'])\n",
        "\n",
        "history_4 = model_4.fit(\n",
        "    X_train, y_train,\n",
        "    epochs=10,\n",
        "    validation_data=(X_test, y_test)\n",
        ")\n",
        "\n",
        "test_loss_4, test_acc_4 = model_4.evaluate(X_test, y_test)\n"
      ],
      "metadata": {
        "colab": {
          "base_uri": "https://localhost:8080/"
        },
        "id": "29edCssDgwag",
        "outputId": "93e6d9a3-18b3-4828-b0dc-f7c7e1cdc0f0"
      },
      "execution_count": null,
      "outputs": [
        {
          "output_type": "stream",
          "name": "stdout",
          "text": [
            "Epoch 1/10\n",
            "700/700 [==============================] - 28s 39ms/step - loss: 0.6932 - accuracy: 0.5004 - val_loss: 0.6932 - val_accuracy: 0.4979\n",
            "Epoch 2/10\n",
            "700/700 [==============================] - 28s 40ms/step - loss: 0.6932 - accuracy: 0.5009 - val_loss: 0.6931 - val_accuracy: 0.5021\n",
            "Epoch 3/10\n",
            "700/700 [==============================] - 28s 40ms/step - loss: 0.6932 - accuracy: 0.4977 - val_loss: 0.6932 - val_accuracy: 0.4979\n",
            "Epoch 4/10\n",
            "700/700 [==============================] - 28s 39ms/step - loss: 0.6932 - accuracy: 0.4983 - val_loss: 0.6932 - val_accuracy: 0.4979\n",
            "Epoch 5/10\n",
            "700/700 [==============================] - 27s 39ms/step - loss: 0.6932 - accuracy: 0.4951 - val_loss: 0.6931 - val_accuracy: 0.5021\n",
            "Epoch 6/10\n",
            "700/700 [==============================] - 27s 39ms/step - loss: 0.6932 - accuracy: 0.4912 - val_loss: 0.6931 - val_accuracy: 0.5021\n",
            "Epoch 7/10\n",
            "700/700 [==============================] - 27s 39ms/step - loss: 0.6932 - accuracy: 0.4938 - val_loss: 0.6932 - val_accuracy: 0.4979\n",
            "Epoch 8/10\n",
            "700/700 [==============================] - 27s 39ms/step - loss: 0.6932 - accuracy: 0.4956 - val_loss: 0.6932 - val_accuracy: 0.4979\n",
            "Epoch 9/10\n",
            "700/700 [==============================] - 28s 40ms/step - loss: 0.6932 - accuracy: 0.4998 - val_loss: 0.6932 - val_accuracy: 0.4979\n",
            "Epoch 10/10\n",
            "700/700 [==============================] - 27s 38ms/step - loss: 0.6932 - accuracy: 0.4978 - val_loss: 0.6932 - val_accuracy: 0.4979\n",
            "175/175 [==============================] - 2s 11ms/step - loss: 0.6932 - accuracy: 0.4979\n"
          ]
        }
      ]
    },
    {
      "cell_type": "code",
      "source": [
        "#Modello 5: Uso di tecniche di regolarizzazione più aggressive\n",
        "\n",
        "model_5 = Sequential([\n",
        "    Conv2D(64, (3, 3), activation='relu', input_shape=(32, 32, 3)),\n",
        "    BatchNormalization(),\n",
        "    MaxPooling2D(),\n",
        "    Conv2D(128, (3, 3), activation='relu'),\n",
        "    BatchNormalization(),\n",
        "    MaxPooling2D(),\n",
        "    Flatten(),\n",
        "    Dense(128, activation='relu'),\n",
        "    BatchNormalization(),\n",
        "    Dropout(0.6),\n",
        "    Dense(1, activation='sigmoid')\n",
        "])\n",
        "\n",
        "model_5.compile(optimizer='adam',\n",
        "              loss='binary_crossentropy',\n",
        "              metrics=['accuracy'])\n",
        "\n",
        "history_5 = model_5.fit(\n",
        "    X_train, y_train,\n",
        "    epochs=10,\n",
        "    validation_data=(X_test, y_test)\n",
        ")\n",
        "\n",
        "test_loss_5, test_acc_5 = model_5.evaluate(X_test, y_test)\n"
      ],
      "metadata": {
        "colab": {
          "base_uri": "https://localhost:8080/"
        },
        "id": "voBReGpag0KT",
        "outputId": "04e6054f-7746-46c6-8e1e-ccceaeb442b2"
      },
      "execution_count": null,
      "outputs": [
        {
          "output_type": "stream",
          "name": "stdout",
          "text": [
            "Epoch 1/10\n",
            "700/700 [==============================] - 54s 74ms/step - loss: 0.8055 - accuracy: 0.4979 - val_loss: 0.6952 - val_accuracy: 0.4882\n",
            "Epoch 2/10\n",
            "700/700 [==============================] - 51s 72ms/step - loss: 0.7039 - accuracy: 0.4961 - val_loss: 0.7004 - val_accuracy: 0.4989\n",
            "Epoch 3/10\n",
            "700/700 [==============================] - 50s 72ms/step - loss: 0.6980 - accuracy: 0.4952 - val_loss: 0.6941 - val_accuracy: 0.4909\n",
            "Epoch 4/10\n",
            "700/700 [==============================] - 51s 72ms/step - loss: 0.6972 - accuracy: 0.4991 - val_loss: 0.6953 - val_accuracy: 0.4898\n",
            "Epoch 5/10\n",
            "700/700 [==============================] - 51s 73ms/step - loss: 0.6970 - accuracy: 0.5013 - val_loss: 0.6972 - val_accuracy: 0.4964\n",
            "Epoch 6/10\n",
            "700/700 [==============================] - 50s 72ms/step - loss: 0.6969 - accuracy: 0.5008 - val_loss: 0.6941 - val_accuracy: 0.5055\n",
            "Epoch 7/10\n",
            "700/700 [==============================] - 53s 75ms/step - loss: 0.6966 - accuracy: 0.4983 - val_loss: 0.6966 - val_accuracy: 0.4893\n",
            "Epoch 8/10\n",
            "700/700 [==============================] - 50s 72ms/step - loss: 0.6964 - accuracy: 0.4983 - val_loss: 0.6961 - val_accuracy: 0.5043\n",
            "Epoch 9/10\n",
            "700/700 [==============================] - 52s 75ms/step - loss: 0.6969 - accuracy: 0.4988 - val_loss: 0.6968 - val_accuracy: 0.4854\n",
            "Epoch 10/10\n",
            "700/700 [==============================] - 50s 72ms/step - loss: 0.6969 - accuracy: 0.4933 - val_loss: 0.6963 - val_accuracy: 0.5091\n",
            "175/175 [==============================] - 4s 21ms/step - loss: 0.6963 - accuracy: 0.5091\n"
          ]
        }
      ]
    },
    {
      "cell_type": "code",
      "source": [
        "#Final Model Mix of other\n",
        "model = Sequential([\n",
        "    Conv2D(128, (3, 3), input_shape=(32, 32, 3)),\n",
        "    BatchNormalization(),\n",
        "    Activation('elu'),\n",
        "    MaxPooling2D(),\n",
        "    Conv2D(128, (3, 3)),\n",
        "    BatchNormalization(),\n",
        "    Conv2D(128, (3, 3), input_shape=(32, 32, 3)),\n",
        "    BatchNormalization(),\n",
        "    Activation('elu'),\n",
        "    MaxPooling2D(),\n",
        "    Conv2D(128, (3, 3)),\n",
        "    BatchNormalization(),\n",
        "    Activation('elu'),\n",
        "    MaxPooling2D(),\n",
        "    Flatten(),\n",
        "    Dense(256, activation='elu'),\n",
        "    Dropout(0.3),\n",
        "    Dense(1, activation='sigmoid')\n",
        "])\n",
        "\n",
        "model.compile(optimizer='adam',\n",
        "              loss='binary_crossentropy',\n",
        "              metrics=['accuracy'])\n",
        "\n",
        "history = model.fit(\n",
        "    X_train, y_train,\n",
        "    epochs=10,\n",
        "    validation_data=(X_test, y_test)\n",
        ")\n",
        "\n",
        "test_loss, test_acc = model.evaluate(X_test, y_test)\n"
      ],
      "metadata": {
        "id": "LVm6bUC96v2c",
        "colab": {
          "base_uri": "https://localhost:8080/"
        },
        "outputId": "f3ccb2f1-c654-4a43-8d29-44aba9ae8f69"
      },
      "execution_count": null,
      "outputs": [
        {
          "output_type": "stream",
          "name": "stdout",
          "text": [
            "Epoch 1/10\n",
            "700/700 [==============================] - 153s 215ms/step - loss: 0.7346 - accuracy: 0.4929 - val_loss: 0.6971 - val_accuracy: 0.4979\n",
            "Epoch 2/10\n",
            "700/700 [==============================] - 152s 217ms/step - loss: 0.7040 - accuracy: 0.5029 - val_loss: 0.6989 - val_accuracy: 0.5036\n",
            "Epoch 3/10\n",
            "700/700 [==============================] - 150s 214ms/step - loss: 0.6975 - accuracy: 0.4944 - val_loss: 0.6938 - val_accuracy: 0.4971\n",
            "Epoch 4/10\n",
            "700/700 [==============================] - 148s 211ms/step - loss: 0.6959 - accuracy: 0.4969 - val_loss: 0.6946 - val_accuracy: 0.4977\n",
            "Epoch 5/10\n",
            "700/700 [==============================] - 149s 212ms/step - loss: 0.6951 - accuracy: 0.5016 - val_loss: 0.7384 - val_accuracy: 0.5030\n",
            "Epoch 6/10\n",
            "700/700 [==============================] - 149s 212ms/step - loss: 0.6952 - accuracy: 0.4975 - val_loss: 0.7035 - val_accuracy: 0.5023\n",
            "Epoch 7/10\n",
            "700/700 [==============================] - 149s 213ms/step - loss: 0.6950 - accuracy: 0.5000 - val_loss: 0.6968 - val_accuracy: 0.4995\n",
            "Epoch 8/10\n",
            "700/700 [==============================] - 149s 212ms/step - loss: 0.6946 - accuracy: 0.4987 - val_loss: 0.6940 - val_accuracy: 0.5038\n",
            "Epoch 9/10\n",
            "700/700 [==============================] - 148s 212ms/step - loss: 0.6952 - accuracy: 0.5002 - val_loss: 0.6962 - val_accuracy: 0.4955\n",
            "Epoch 10/10\n",
            "700/700 [==============================] - 149s 212ms/step - loss: 0.6951 - accuracy: 0.5027 - val_loss: 0.7014 - val_accuracy: 0.4975\n",
            "175/175 [==============================] - 8s 48ms/step - loss: 0.7014 - accuracy: 0.4975\n"
          ]
        }
      ]
    }
  ]
}