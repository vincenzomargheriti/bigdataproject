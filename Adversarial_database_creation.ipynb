{
  "nbformat": 4,
  "nbformat_minor": 0,
  "metadata": {
    "colab": {
      "provenance": []
    },
    "kernelspec": {
      "name": "python3",
      "display_name": "Python 3"
    },
    "language_info": {
      "name": "python"
    }
  },
  "cells": [
    {
      "cell_type": "code",
      "execution_count": null,
      "metadata": {
        "id": "pNc517bpoTtw",
        "colab": {
          "base_uri": "https://localhost:8080/"
        },
        "outputId": "49453c61-4d9b-453a-b5a2-283824151f3e"
      },
      "outputs": [
        {
          "output_type": "stream",
          "name": "stdout",
          "text": [
            "Collecting adversarial-robustness-toolbox\n",
            "  Downloading adversarial_robustness_toolbox-1.17.0-py3-none-any.whl (1.7 MB)\n",
            "\u001b[2K     \u001b[90m━━━━━━━━━━━━━━━━━━━━━━━━━━━━━━━━━━━━━━━━\u001b[0m \u001b[32m1.7/1.7 MB\u001b[0m \u001b[31m18.9 MB/s\u001b[0m eta \u001b[36m0:00:00\u001b[0m\n",
            "\u001b[?25hRequirement already satisfied: numpy>=1.18.0 in /usr/local/lib/python3.10/dist-packages (from adversarial-robustness-toolbox) (1.23.5)\n",
            "Requirement already satisfied: scipy>=1.4.1 in /usr/local/lib/python3.10/dist-packages (from adversarial-robustness-toolbox) (1.11.4)\n",
            "Collecting scikit-learn<1.2.0,>=0.22.2 (from adversarial-robustness-toolbox)\n",
            "  Downloading scikit_learn-1.1.3-cp310-cp310-manylinux_2_17_x86_64.manylinux2014_x86_64.whl (30.5 MB)\n",
            "\u001b[2K     \u001b[90m━━━━━━━━━━━━━━━━━━━━━━━━━━━━━━━━━━━━━━━━\u001b[0m \u001b[32m30.5/30.5 MB\u001b[0m \u001b[31m46.0 MB/s\u001b[0m eta \u001b[36m0:00:00\u001b[0m\n",
            "\u001b[?25hRequirement already satisfied: six in /usr/local/lib/python3.10/dist-packages (from adversarial-robustness-toolbox) (1.16.0)\n",
            "Requirement already satisfied: setuptools in /usr/local/lib/python3.10/dist-packages (from adversarial-robustness-toolbox) (67.7.2)\n",
            "Requirement already satisfied: tqdm in /usr/local/lib/python3.10/dist-packages (from adversarial-robustness-toolbox) (4.66.1)\n",
            "Requirement already satisfied: joblib>=1.0.0 in /usr/local/lib/python3.10/dist-packages (from scikit-learn<1.2.0,>=0.22.2->adversarial-robustness-toolbox) (1.3.2)\n",
            "Requirement already satisfied: threadpoolctl>=2.0.0 in /usr/local/lib/python3.10/dist-packages (from scikit-learn<1.2.0,>=0.22.2->adversarial-robustness-toolbox) (3.2.0)\n",
            "Installing collected packages: scikit-learn, adversarial-robustness-toolbox\n",
            "  Attempting uninstall: scikit-learn\n",
            "    Found existing installation: scikit-learn 1.2.2\n",
            "    Uninstalling scikit-learn-1.2.2:\n",
            "      Successfully uninstalled scikit-learn-1.2.2\n",
            "\u001b[31mERROR: pip's dependency resolver does not currently take into account all the packages that are installed. This behaviour is the source of the following dependency conflicts.\n",
            "bigframes 0.20.1 requires scikit-learn>=1.2.2, but you have scikit-learn 1.1.3 which is incompatible.\u001b[0m\u001b[31m\n",
            "\u001b[0mSuccessfully installed adversarial-robustness-toolbox-1.17.0 scikit-learn-1.1.3\n"
          ]
        }
      ],
      "source": [
        "!pip install adversarial-robustness-toolbox"
      ]
    },
    {
      "cell_type": "markdown",
      "source": [
        "**from art.estimators.classification import KerasClassifier:** Importa la classe KerasClassifier dalla libreria ART. Questa classe fornisce un wrapper per l'utilizzo di modelli di classificazione di TensorFlow con la libreria ART.\n",
        "\n",
        "**from art.attacks.evasion import FastGradientMethod**: Importa la classe FastGradientMethod dalla libreria ART. Questa classe implementa l'attacco avversariale chiamato Fast Gradient Method (FGSM), che è un metodo rapido ed efficace per generare immagini avversariali.\n",
        "\n",
        "**from art.utils import load_cifar10**: Importa la funzione load_cifar10 dalla libreria ART. Questa funzione semplifica il caricamento del dataset CIFAR-10, che verrà utilizzato per addestrare il modello e generare le immagini avversariali."
      ],
      "metadata": {
        "id": "B4UtaX21rPfs"
      }
    },
    {
      "cell_type": "code",
      "source": [
        "import os\n",
        "import cv2\n",
        "import numpy as np\n",
        "import tensorflow as tf\n",
        "from tensorflow.keras.applications.resnet import preprocess_input\n",
        "from art.estimators.classification import KerasClassifier\n",
        "from art.attacks.evasion import FastGradientMethod\n",
        "from art.utils import load_cifar10"
      ],
      "metadata": {
        "id": "Q1OjlXcro0UB"
      },
      "execution_count": null,
      "outputs": []
    },
    {
      "cell_type": "markdown",
      "source": [
        "In TensorFlow 2.0 e versioni successive, l'esecuzione accelerata è abilitata per default. Disabilitare l'esecuzione accelerata è necessario in questo contesto poiché ART è progettata per lavorare con sessioni di TensorFlow non accelerate."
      ],
      "metadata": {
        "id": "fGWeqSclr-jT"
      }
    },
    {
      "cell_type": "code",
      "source": [
        "# Disabilita l'esecuzione accelerata di TensorFlow\n",
        "tf.compat.v1.disable_eager_execution()"
      ],
      "metadata": {
        "id": "1fmnvtCNpjSG"
      },
      "execution_count": null,
      "outputs": []
    },
    {
      "cell_type": "markdown",
      "source": [
        "Questa parte del codice carica un modello **MobileNetV2 preaddestrato**, lo adatta a **CIFAR-10** sostituendo l'ultimo livello e crea un **classificatore ART** basato su questo modello."
      ],
      "metadata": {
        "id": "CDkEr9ySsICl"
      }
    },
    {
      "cell_type": "code",
      "source": [
        "# Carica il modello preaddestrato su MobileNetV2 senza il livello fully connected\n",
        "base_model = tf.keras.applications.MobileNetV2(weights='imagenet', input_shape=(32, 32, 3), include_top=False)\n",
        "base_model.trainable = False\n",
        "\n",
        "# Aggiungi un nuovo livello per adattarsi a CIFAR-10\n",
        "model = tf.keras.models.Sequential([\n",
        "    base_model,\n",
        "    tf.keras.layers.GlobalAveragePooling2D(),\n",
        "    tf.keras.layers.Dense(10, activation='softmax')  # 10 classi per CIFAR-10\n",
        "])\n",
        "\n",
        "classifier = KerasClassifier(model=model, clip_values=(0, 1), use_logits=False)\n"
      ],
      "metadata": {
        "colab": {
          "base_uri": "https://localhost:8080/"
        },
        "id": "f3d0CMJOpDdo",
        "outputId": "1f5c03de-d186-40e1-d543-a158ae7bfffe"
      },
      "execution_count": null,
      "outputs": [
        {
          "output_type": "stream",
          "name": "stderr",
          "text": [
            "WARNING:tensorflow:`input_shape` is undefined or non-square, or `rows` is not in [96, 128, 160, 192, 224]. Weights for input shape (224, 224) will be loaded as the default.\n",
            "WARNING:tensorflow:From /usr/local/lib/python3.10/dist-packages/keras/src/layers/normalization/batch_normalization.py:883: _colocate_with (from tensorflow.python.framework.ops) is deprecated and will be removed in a future version.\n",
            "Instructions for updating:\n",
            "Colocations handled automatically by placer.\n"
          ]
        },
        {
          "output_type": "stream",
          "name": "stdout",
          "text": [
            "Downloading data from https://storage.googleapis.com/tensorflow/keras-applications/mobilenet_v2/mobilenet_v2_weights_tf_dim_ordering_tf_kernels_1.0_224_no_top.h5\n",
            "9406464/9406464 [==============================] - 0s 0us/step\n"
          ]
        },
        {
          "output_type": "stream",
          "name": "stderr",
          "text": [
            "WARNING:art.estimators.classification.keras:Keras model has no loss set. Classifier tries to use `k.sparse_categorical_crossentropy`.\n"
          ]
        }
      ]
    },
    {
      "cell_type": "markdown",
      "source": [
        "Carichiamo il dataset **CIFAR-10** utilizzando la funzione load_cifar10 di ART e selezionando solo le prime 10 immagini e le corrispondenti etichette di addestramento, per provare in maniera veloce e su poche immagini l'attacco."
      ],
      "metadata": {
        "id": "mpaJn7V3smlY"
      }
    },
    {
      "cell_type": "code",
      "source": [
        "# Carica il dataset CIFAR-10\n",
        "(x_train, y_train), (_, _), _, _ = load_cifar10()\n",
        "\n",
        "# Seleziona 14000 immagini\n",
        "x_sample = x_train[:14000]\n",
        "y_sample = y_train[:14000]"
      ],
      "metadata": {
        "id": "CgciGNH_pro9"
      },
      "execution_count": null,
      "outputs": []
    },
    {
      "cell_type": "markdown",
      "source": [
        "**attack = FastGradientMethod(estimator=classifier, eps=0.1)**: Crea un oggetto di attacco FGSM specificando il classificatore classifier (il nostro modello) come estimatore e impostando eps a 0.1. L'epsilon (eps) rappresenta la quantità massima di perturbazione che può essere aggiunta a ciascun pixel nell'immagine per generare l'immagine avversaria. Si potrebbero fare varie prove.\n",
        "\n",
        "**x_adv = attack.generate(x_sample)**: Applica l'attacco alle immagini di esempio (x_sample). L'attacco FGSM modifica le immagini originali aggiungendo una perturbazione basata sul gradiente della funzione di perdita rispetto alle immagini di input. L'obiettivo è creare immagini che ingannino il modello quando classificate, ma che appaiano simili a occhio umano. Il risultato è memorizzato nella variabile x_adv, che conterrà le immagini avversariali."
      ],
      "metadata": {
        "id": "_is_pcs5s22L"
      }
    },
    {
      "cell_type": "code",
      "source": [
        "# Definisci l'attacco FGSM\n",
        "attack = FastGradientMethod(estimator=classifier, eps=0.01)\n",
        "\n",
        "# Applica l'attacco alle immagini di esempio\n",
        "x_adv = attack.generate(x_sample)"
      ],
      "metadata": {
        "id": "9Uq3NdXbpvyi",
        "colab": {
          "base_uri": "https://localhost:8080/"
        },
        "outputId": "737473cb-4049-4613-fbb8-a7752dfb0a59"
      },
      "execution_count": null,
      "outputs": [
        {
          "output_type": "stream",
          "name": "stderr",
          "text": [
            "/usr/local/lib/python3.10/dist-packages/keras/src/engine/training_v1.py:2359: UserWarning: `Model.state_updates` will be removed in a future version. This property should not be used in TensorFlow 2.0, as `updates` are applied automatically.\n",
            "  updates=self.state_updates,\n"
          ]
        }
      ]
    },
    {
      "cell_type": "code",
      "source": [
        "# Calcola la percentuale di successo dell'attacco\n",
        "\n",
        "# Esegui previsioni sulle immagini originali\n",
        "predictions_original = classifier.predict(x_sample)\n",
        "\n",
        "# Esegui previsioni sulle immagini avversariali\n",
        "predictions_adversarial = classifier.predict(x_adv)\n",
        "\n",
        "success_rate = (predictions_original.argmax(axis=1) != predictions_adversarial.argmax(axis=1)).mean()\n",
        "print(f\"Percentuale di successo dell'attacco: {success_rate * 100}%\")\n"
      ],
      "metadata": {
        "colab": {
          "base_uri": "https://localhost:8080/"
        },
        "id": "BMdh1QOZqdPZ",
        "outputId": "8b7e32f0-0668-47dd-818a-99b1e0884c01"
      },
      "execution_count": null,
      "outputs": [
        {
          "output_type": "stream",
          "name": "stdout",
          "text": [
            "Percentuale di successo dell'attacco: 85.86428571428571%\n"
          ]
        }
      ]
    },
    {
      "cell_type": "code",
      "source": [
        "# Creazione di array di etichette per immagini attaccate e originali\n",
        "labels_attacked = np.ones(x_adv.shape[0])  # 1 indica immagini attaccate\n",
        "labels_original = np.zeros(x_sample.shape[0])  # 0 indica immagini originali\n",
        "\n",
        "# Salva le immagini attaccate e le etichette corrispondenti\n",
        "np.savez('attacked_dataset_big.npz', images=x_adv, labels=labels_attacked)\n",
        "\n",
        "# Salva le immagini originali e le etichette corrispondenti\n",
        "np.savez('original_dataset_big.npz', images=x_sample, labels=labels_original)\n"
      ],
      "metadata": {
        "id": "wBlHK5VEfR8w"
      },
      "execution_count": null,
      "outputs": []
    },
    {
      "cell_type": "markdown",
      "source": [
        "Per caricare il database su altri progetti, basta importare questi file una volta scaricati, attraverso numpy.\n",
        "\n",
        "```\n",
        "import numpy as np\n",
        "\n",
        "# Carica il dataset attaccato\n",
        "attacked_data = np.load('attacked_dataset.npz')\n",
        "attacked_images = attacked_data['images']\n",
        "attacked_labels = attacked_data['labels']\n",
        "\n",
        "# Carica il dataset originale\n",
        "original_data = np.load('original_dataset.npz')\n",
        "original_images = original_data['images']\n",
        "original_labels = original_data['labels']\n",
        "\n",
        "```\n",
        "\n"
      ],
      "metadata": {
        "id": "85_BUZ3DbjVl"
      }
    }
  ]
}
